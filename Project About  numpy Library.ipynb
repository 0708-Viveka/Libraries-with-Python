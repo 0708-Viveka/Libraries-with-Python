{
 "cells": [
  {
   "cell_type": "markdown",
   "id": "f6cd581e",
   "metadata": {},
   "source": [
    "# Projects About  numpy Library"
   ]
  },
  {
   "cell_type": "code",
   "execution_count": 1,
   "id": "3aa748f0",
   "metadata": {},
   "outputs": [],
   "source": [
    "import numpy as np"
   ]
  },
  {
   "cell_type": "code",
   "execution_count": 2,
   "id": "893c99d0",
   "metadata": {},
   "outputs": [
    {
     "name": "stdout",
     "output_type": "stream",
     "text": [
      "[1 2 3 4 5]\n",
      "<class 'numpy.ndarray'>\n"
     ]
    }
   ],
   "source": [
    "arr = np.array([1,2,3,4,5])\n",
    "print(arr)\n",
    "print(type(arr))"
   ]
  },
  {
   "cell_type": "code",
   "execution_count": 3,
   "id": "1e485a46",
   "metadata": {},
   "outputs": [
    {
     "name": "stdout",
     "output_type": "stream",
     "text": [
      "[1 2 3 4 5]\n",
      "<class 'numpy.ndarray'>\n"
     ]
    }
   ],
   "source": [
    "arr = np.array((1,2,3,4,5))\n",
    "print(arr)\n",
    "print(type(arr))"
   ]
  },
  {
   "cell_type": "markdown",
   "id": "b859d6a1",
   "metadata": {},
   "source": [
    "# Dimensions in array"
   ]
  },
  {
   "cell_type": "code",
   "execution_count": 4,
   "id": "8a52cc04",
   "metadata": {},
   "outputs": [
    {
     "name": "stdout",
     "output_type": "stream",
     "text": [
      "20\n",
      "<class 'numpy.ndarray'>\n",
      "0\n"
     ]
    }
   ],
   "source": [
    "arr = np.array(20)\n",
    "print(arr)\n",
    "print(type(arr))\n",
    "print(arr.ndim)"
   ]
  },
  {
   "cell_type": "code",
   "execution_count": 5,
   "id": "cf6cdc19",
   "metadata": {},
   "outputs": [
    {
     "name": "stdout",
     "output_type": "stream",
     "text": [
      "[1 2 3 4 5 6]\n",
      "1\n"
     ]
    }
   ],
   "source": [
    "arr = np.array([1,2,3,4,5,6])\n",
    "print(arr)\n",
    "print(arr.ndim)"
   ]
  },
  {
   "cell_type": "code",
   "execution_count": 6,
   "id": "7cca520f",
   "metadata": {},
   "outputs": [
    {
     "name": "stdout",
     "output_type": "stream",
     "text": [
      "[[1 2 3]\n",
      " [4 5 6]]\n",
      "2\n"
     ]
    }
   ],
   "source": [
    "arr = np.array([[1,2,3],[4,5,6]])\n",
    "print(arr)\n",
    "print(arr.ndim)"
   ]
  },
  {
   "cell_type": "code",
   "execution_count": 7,
   "id": "36b9d5d9",
   "metadata": {},
   "outputs": [
    {
     "name": "stdout",
     "output_type": "stream",
     "text": [
      "[[1.1 2.2 3.3]\n",
      " [4.  5.  6. ]]\n",
      "2\n"
     ]
    }
   ],
   "source": [
    "arr = np.array([[1.1,2.2,3.3],[4,5,6]])\n",
    "print(arr)\n",
    "print(arr.ndim)"
   ]
  },
  {
   "cell_type": "code",
   "execution_count": 8,
   "id": "ec5b2716",
   "metadata": {},
   "outputs": [
    {
     "name": "stdout",
     "output_type": "stream",
     "text": [
      "[[[ 1  2  3]\n",
      "  [ 4  5  6]\n",
      "  [ 7  8  9]\n",
      "  [10 11 12]]]\n",
      "3\n"
     ]
    }
   ],
   "source": [
    "arr = np.array([[[1,2,3],[4,5,6] ,[7,8,9],[10,11,12]]])\n",
    "\n",
    "print(arr)\n",
    "print(arr.ndim)"
   ]
  },
  {
   "cell_type": "code",
   "execution_count": 9,
   "id": "cf4820a4",
   "metadata": {},
   "outputs": [
    {
     "name": "stdout",
     "output_type": "stream",
     "text": [
      "[[[[[1 2 3 5]]]]]\n",
      "number of dimnsion : 5\n"
     ]
    }
   ],
   "source": [
    "arr = np.array([1,2,3,5], ndmin=5)\n",
    "\n",
    "print(arr)\n",
    "print('number of dimnsion :', arr.ndim)"
   ]
  },
  {
   "cell_type": "code",
   "execution_count": 10,
   "id": "4f92fef0",
   "metadata": {},
   "outputs": [
    {
     "name": "stdout",
     "output_type": "stream",
     "text": [
      "[[[[[[[[[[[[[[[1 2 3 5]]]]]]]]]]]]]]]\n",
      "number of dimnsion : 15\n"
     ]
    }
   ],
   "source": [
    "arr = np.array([1,2,3,5], ndmin=15)\n",
    "\n",
    "print(arr)\n",
    "print('number of dimnsion :', arr.ndim)"
   ]
  },
  {
   "cell_type": "code",
   "execution_count": 11,
   "id": "412a8fa8",
   "metadata": {},
   "outputs": [
    {
     "name": "stdout",
     "output_type": "stream",
     "text": [
      "2nd element on 1st row: 20\n"
     ]
    }
   ],
   "source": [
    "arr = np.array([[10,20,30,40,50], [60,70,80,90,100]])\n",
    "\n",
    "print('2nd element on 1st row:', arr[0, 1])"
   ]
  },
  {
   "cell_type": "code",
   "execution_count": 12,
   "id": "ecce9680",
   "metadata": {},
   "outputs": [
    {
     "name": "stdout",
     "output_type": "stream",
     "text": [
      "4th element on 1st row: 40\n"
     ]
    }
   ],
   "source": [
    "arr = np.array([[10,20,30,40,50], [60,70,80,90,100]])\n",
    "\n",
    "print('4th element on 1st row:', arr[0, 3])"
   ]
  },
  {
   "cell_type": "code",
   "execution_count": 13,
   "id": "c81b4c76",
   "metadata": {},
   "outputs": [
    {
     "name": "stdout",
     "output_type": "stream",
     "text": [
      "1st element on 2nd row: 60\n"
     ]
    }
   ],
   "source": [
    "arr = np.array([[10,20,30,40,50], [60,70,80,90,100]])\n",
    "\n",
    "print('1st element on 2nd row:', arr[1, 0])"
   ]
  },
  {
   "cell_type": "code",
   "execution_count": 14,
   "id": "37da2db8",
   "metadata": {},
   "outputs": [
    {
     "name": "stdout",
     "output_type": "stream",
     "text": [
      "first element of 1st row:  10\n",
      "last element of 2nd row:  100\n",
      "sum is 110\n"
     ]
    }
   ],
   "source": [
    "arr = np.array([[10,20,30,40,50], [60,70,80,90,100]])\n",
    "\n",
    "print('first element of 1st row: ', arr[0, 0])\n",
    "print('last element of 2nd row: ', arr[1,4])\n",
    "print(\"sum is\" , arr[0, 0]+arr[1, 4])"
   ]
  },
  {
   "cell_type": "code",
   "execution_count": 15,
   "id": "c1e7ae69",
   "metadata": {},
   "outputs": [
    {
     "name": "stdout",
     "output_type": "stream",
     "text": [
      "1D Array:\n",
      "[1 2 3 4 5]\n",
      "\n",
      "2D Array:\n",
      "[[1 2 3]\n",
      " [4 5 6]]\n"
     ]
    }
   ],
   "source": [
    "import numpy as np\n",
    "\n",
    "# Creating arrays\n",
    "array1 = np.array([1, 2, 3, 4, 5])\n",
    "array2 = np.array([[1, 2, 3], [4, 5, 6]])\n",
    "\n",
    "print(\"1D Array:\")\n",
    "print(array1)\n",
    "\n",
    "print(\"\\n2D Array:\")\n",
    "print(array2)\n"
   ]
  },
  {
   "cell_type": "code",
   "execution_count": 16,
   "id": "ac0503c4",
   "metadata": {},
   "outputs": [
    {
     "name": "stdout",
     "output_type": "stream",
     "text": [
      "Element-wise Addition:\n",
      "[6 6 6 6 6]\n",
      "\n",
      "Element-wise Multiplication:\n",
      "[5 8 9 8 5]\n",
      "\n",
      "Dot Product:\n",
      "35\n"
     ]
    }
   ],
   "source": [
    "import numpy as np\n",
    "\n",
    "array1 = np.array([1, 2, 3, 4, 5])\n",
    "array2 = np.array([5, 4, 3, 2, 1])\n",
    "\n",
    "# Element-wise addition\n",
    "add = array1 + array2\n",
    "\n",
    "# Element-wise multiplication\n",
    "multiply = array1 * array2\n",
    "\n",
    "# Dot product\n",
    "dot_product = np.dot(array1, array2)\n",
    "\n",
    "print(\"Element-wise Addition:\")\n",
    "print(add)\n",
    "\n",
    "print(\"\\nElement-wise Multiplication:\")\n",
    "print(multiply)\n",
    "\n",
    "print(\"\\nDot Product:\")\n",
    "print(dot_product)\n"
   ]
  },
  {
   "cell_type": "code",
   "execution_count": 17,
   "id": "04278f64",
   "metadata": {},
   "outputs": [
    {
     "name": "stdout",
     "output_type": "stream",
     "text": [
      "Original Array:\n",
      "[[1 2 3]\n",
      " [4 5 6]]\n",
      "\n",
      "Reshaped Array (3x2):\n",
      "[[1 2]\n",
      " [3 4]\n",
      " [5 6]]\n",
      "\n",
      "Transposed Array:\n",
      "[[1 4]\n",
      " [2 5]\n",
      " [3 6]]\n"
     ]
    }
   ],
   "source": [
    "import numpy as np\n",
    "\n",
    "array = np.array([[1, 2, 3], [4, 5, 6]])\n",
    "\n",
    "# Reshaping array\n",
    "reshaped = array.reshape((3, 2))\n",
    "\n",
    "# Transposing array\n",
    "transposed = array.T\n",
    "\n",
    "print(\"Original Array:\")\n",
    "print(array)\n",
    "\n",
    "print(\"\\nReshaped Array (3x2):\")\n",
    "print(reshaped)\n",
    "\n",
    "print(\"\\nTransposed Array:\")\n",
    "print(transposed)\n"
   ]
  },
  {
   "cell_type": "code",
   "execution_count": 18,
   "id": "0b25b5a0",
   "metadata": {},
   "outputs": [
    {
     "name": "stdout",
     "output_type": "stream",
     "text": [
      "Random Floats:\n",
      "[0.40209594 0.87571117 0.16865513 0.07234709 0.80947524]\n",
      "\n",
      "Random Integers:\n",
      "[2 7 7 8 1]\n"
     ]
    }
   ],
   "source": [
    "import numpy as np\n",
    "\n",
    "# Random float numbers between 0 and 1\n",
    "random_floats = np.random.rand(5)\n",
    "\n",
    "# Random integers between 0 and 10\n",
    "random_ints = np.random.randint(0, 10, 5)\n",
    "\n",
    "print(\"Random Floats:\")\n",
    "print(random_floats)\n",
    "\n",
    "print(\"\\nRandom Integers:\")\n",
    "print(random_ints)\n"
   ]
  },
  {
   "cell_type": "code",
   "execution_count": 19,
   "id": "d896d4ad",
   "metadata": {},
   "outputs": [
    {
     "name": "stdout",
     "output_type": "stream",
     "text": [
      "Mean:\n",
      "5.5\n",
      "\n",
      "Standard Deviation:\n",
      "2.8722813232690143\n",
      "\n",
      "Sum:\n",
      "55\n"
     ]
    }
   ],
   "source": [
    "import numpy as np\n",
    "\n",
    "array = np.array([1, 2, 3, 4, 5, 6, 7, 8, 9, 10])\n",
    "\n",
    "# Mean\n",
    "mean = np.mean(array)\n",
    "\n",
    "# Standard deviation\n",
    "std_dev = np.std(array)\n",
    "\n",
    "# Sum\n",
    "sum_array = np.sum(array)\n",
    "\n",
    "print(\"Mean:\")\n",
    "print(mean)\n",
    "\n",
    "print(\"\\nStandard Deviation:\")\n",
    "print(std_dev)\n",
    "\n",
    "print(\"\\nSum:\")\n",
    "print(sum_array)\n"
   ]
  },
  {
   "cell_type": "code",
   "execution_count": 20,
   "id": "d1a84671",
   "metadata": {},
   "outputs": [
    {
     "name": "stdout",
     "output_type": "stream",
     "text": [
      "Elements Greater Than 5:\n",
      "[ 6  7  8  9 10]\n"
     ]
    }
   ],
   "source": [
    "import numpy as np\n",
    "\n",
    "array = np.array([1, 2, 3, 4, 5, 6, 7, 8, 9, 10])\n",
    "\n",
    "# Elements greater than 5\n",
    "greater_than_five = array[array > 5]\n",
    "\n",
    "print(\"Elements Greater Than 5:\")\n",
    "print(greater_than_five)\n"
   ]
  },
  {
   "cell_type": "code",
   "execution_count": 21,
   "id": "fc87cba8",
   "metadata": {},
   "outputs": [
    {
     "name": "stdout",
     "output_type": "stream",
     "text": [
      "Matrix Product:\n",
      "[[19 22]\n",
      " [43 50]]\n",
      "\n",
      "Determinant:\n",
      "-2.0000000000000004\n",
      "\n",
      "Inverse:\n",
      "[[-2.   1. ]\n",
      " [ 1.5 -0.5]]\n"
     ]
    }
   ],
   "source": [
    "import numpy as np\n",
    "\n",
    "# Creating matrices\n",
    "matrix1 = np.array([[1, 2], [3, 4]])\n",
    "matrix2 = np.array([[5, 6], [7, 8]])\n",
    "\n",
    "# Matrix multiplication\n",
    "matrix_product = np.dot(matrix1, matrix2)\n",
    "\n",
    "# Determinant\n",
    "det = np.linalg.det(matrix1)\n",
    "\n",
    "# Inverse\n",
    "inverse = np.linalg.inv(matrix1)\n",
    "\n",
    "print(\"Matrix Product:\")\n",
    "print(matrix_product)\n",
    "\n",
    "print(\"\\nDeterminant:\")\n",
    "print(det)\n",
    "\n",
    "print(\"\\nInverse:\")\n",
    "print(inverse)\n"
   ]
  },
  {
   "cell_type": "code",
   "execution_count": 22,
   "id": "9fd8e08e",
   "metadata": {},
   "outputs": [
    {
     "name": "stdout",
     "output_type": "stream",
     "text": [
      "[1 2 3 4 5 6]\n"
     ]
    }
   ],
   "source": [
    "arr1 = np.array([1,2,3])\n",
    "\n",
    "arr2 = np.array([4,5,6])\n",
    "\n",
    "arr = np.concatenate((arr1, arr2))\n",
    "\n",
    "print(arr)"
   ]
  },
  {
   "cell_type": "code",
   "execution_count": 23,
   "id": "99a76523",
   "metadata": {},
   "outputs": [
    {
     "name": "stdout",
     "output_type": "stream",
     "text": [
      "[[1 2]\n",
      " [3 4]\n",
      " [5 6]\n",
      " [7 8]]\n"
     ]
    }
   ],
   "source": [
    "arr1 = np.array([[1,2],[3,4]])\n",
    "\n",
    "arr2 = np.array([[5,6], [7,8]])\n",
    "\n",
    "arr = np.concatenate((arr1, arr2), axis = 0)\n",
    "\n",
    "print(arr)"
   ]
  },
  {
   "cell_type": "code",
   "execution_count": 24,
   "id": "b0caad46",
   "metadata": {},
   "outputs": [
    {
     "name": "stdout",
     "output_type": "stream",
     "text": [
      "[[[1 2 3]\n",
      "  [4 5 6]\n",
      "  [7 8 9]]]\n",
      "dimension is  3\n",
      "[1 2 3 4 5 6 7 8 9]\n",
      "now the new dimension is 1\n"
     ]
    }
   ],
   "source": [
    "m = np.array([[[1,2,3], [4,5,6], [7,8,9]]])\n",
    "print(m)\n",
    "print(\"dimension is \", m.ndim)\n",
    "n = m.ravel()\n",
    "print(n)\n",
    "print(\"now the new dimension is\", n.ndim)"
   ]
  },
  {
   "cell_type": "code",
   "execution_count": 25,
   "id": "409b3027",
   "metadata": {},
   "outputs": [
    {
     "name": "stdout",
     "output_type": "stream",
     "text": [
      "[[[[ 1  2  3]\n",
      "   [52 78 96]\n",
      "   [78 96 52]]]]\n",
      "the dimension is 4\n",
      "[ 1  2  3 52 78 96 78 96 52]\n",
      "now the new dimension is 1\n"
     ]
    }
   ],
   "source": [
    "c = np.array([[[[1,2,3], [52,78,96], [78,96,52]]]])\n",
    "print(c)\n",
    "print(\"the dimension is\", c.ndim)\n",
    "d = c.flatten() \n",
    "print(d)\n",
    "print(\"now the new dimension is\", n.ndim)\n"
   ]
  },
  {
   "cell_type": "code",
   "execution_count": 26,
   "id": "41db1d12",
   "metadata": {},
   "outputs": [
    {
     "name": "stdout",
     "output_type": "stream",
     "text": [
      "Normalized Data:\n",
      "[[0.  0.  0. ]\n",
      " [0.5 0.5 0.5]\n",
      " [1.  1.  1. ]]\n"
     ]
    }
   ],
   "source": [
    "import numpy as np\n",
    "\n",
    "data = np.array([[1, 2, 3], [4, 5, 6], [7, 8, 9]])\n",
    "\n",
    "# Min-max normalization\n",
    "normalized_data = (data - np.min(data, axis=0)) / (np.max(data, axis=0) - np.min(data, axis=0))\n",
    "\n",
    "print(\"Normalized Data:\")\n",
    "print(normalized_data)\n"
   ]
  },
  {
   "cell_type": "code",
   "execution_count": 27,
   "id": "189d17fe",
   "metadata": {},
   "outputs": [
    {
     "name": "stdout",
     "output_type": "stream",
     "text": [
      "Data with NaNs replaced:\n",
      "[[1.  2.  7.5]\n",
      " [4.  5.  6. ]\n",
      " [7.  8.  9. ]]\n"
     ]
    }
   ],
   "source": [
    "import numpy as np\n",
    "\n",
    "data = np.array([[1, 2, np.nan], [4, np.nan, 6], [7, 8, 9]])\n",
    "\n",
    "# Replace NaNs with the mean of the column\n",
    "col_mean = np.nanmean(data, axis=0)\n",
    "inds = np.where(np.isnan(data))\n",
    "data[inds] = np.take(col_mean, inds[1])\n",
    "\n",
    "print(\"Data with NaNs replaced:\")\n",
    "print(data)\n"
   ]
  },
  {
   "cell_type": "code",
   "execution_count": 28,
   "id": "47f2de81",
   "metadata": {},
   "outputs": [
    {
     "name": "stdout",
     "output_type": "stream",
     "text": [
      "Moving Average of Time Series:\n",
      "[ 0.46872632  0.45624032  0.42891376  0.44810329  0.28070679  0.12132185\n",
      " -0.06510615 -0.12426836 -0.14092006 -0.78406536 -0.67442415 -0.83205932\n",
      " -0.60917671 -0.78095126 -0.22741351 -0.28409692  0.14475168 -0.30647051\n",
      " -0.01403285  0.15118171  0.04287053 -0.0860862   0.11037261  0.14560514\n",
      "  0.07985162  0.284921    0.32842914  0.05797421 -0.139147   -0.16519174\n",
      " -0.02742686 -0.15937847  0.0109284   0.01838152  0.21204196 -0.02984842\n",
      "  0.12953925  0.21916399  0.37380053 -0.00573056  0.04778455 -0.15197048\n",
      " -0.04849898  0.02048926  0.03989199  0.04045309  0.15345186  0.10793017\n",
      " -0.28727108 -0.4012311  -0.45892087 -0.39073457 -0.21517698 -0.00963704\n",
      "  0.11821211  0.31476885  0.75606466  0.31317717  0.54689736  0.55552804\n",
      "  0.43160774 -0.30545558 -0.02650057 -0.73015914 -0.87369199 -0.66124993\n",
      " -0.44701374 -0.06004823  0.34482402  0.43789761  0.29242459  0.590795\n",
      " -0.02578031  0.29699992  0.32773593  0.31447295  0.14623955  0.4535418\n",
      " -0.04457614  0.06983263  0.02430804 -0.17298842  0.03340224  0.53365302\n",
      "  0.43895734  0.61427781  0.70659041  0.28933532  0.02120699  0.14597952\n",
      " -0.06236077 -0.15019357 -0.13489825  0.23217296 -0.12762162  0.12403282]\n"
     ]
    }
   ],
   "source": [
    "import numpy as np\n",
    "\n",
    "# Simulated time series data\n",
    "time_series = np.random.randn(100)\n",
    "\n",
    "# Moving average\n",
    "window_size = 5\n",
    "moving_avg = np.convolve(time_series, np.ones(window_size)/window_size, mode='valid')\n",
    "\n",
    "print(\"Moving Average of Time Series:\")\n",
    "print(moving_avg)\n",
    "\n"
   ]
  },
  {
   "cell_type": "code",
   "execution_count": 29,
   "id": "33d5e22a",
   "metadata": {},
   "outputs": [
    {
     "name": "stdout",
     "output_type": "stream",
     "text": [
      "Result of Vectorized Operation:\n",
      "[4.60155023 4.7316612  3.7825399  3.20989046 3.75138284 4.19489122\n",
      " 4.99576022 3.13050265 4.73229566 4.85427706]\n"
     ]
    }
   ],
   "source": [
    "import numpy as np\n",
    "\n",
    "# Element-wise operations using vectorization\n",
    "large_array = np.random.rand(1000000)\n",
    "result = large_array * 2 + 3\n",
    "\n",
    "print(\"Result of Vectorized Operation:\")\n",
    "print(result[:10])  # Displaying only the first 10 elements for brevity\n"
   ]
  },
  {
   "cell_type": "code",
   "execution_count": 31,
   "id": "5f333d2f",
   "metadata": {},
   "outputs": [
    {
     "name": "stdout",
     "output_type": "stream",
     "text": [
      "Centroids of clusters:\n",
      "[[0.30170116 0.2827347 ]\n",
      " [0.32924246 0.83222743]\n",
      " [0.81817329 0.52257669]]\n",
      "\n",
      "Labels of each point:\n",
      "[1 1 1 0 1 2 0 2 2 0 2 1 1 0 0 2 0 1 0 1 0 0 2 2 0 0 2 0 0 0 2 2 0 0 1 0 0\n",
      " 2 0 2 2 0 2 1 1 1 0 2 0 2 2 1 0 2 2 2 2 2 2 2 1 1 2 2 2 1 0 0 2 1 1 0 0 1\n",
      " 2 2 1 2 2 1 2 0 1 1 2 0 0 0 1 1 0 1 2 1 0 1 2 0 2 2]\n"
     ]
    }
   ],
   "source": [
    "import numpy as np\n",
    "\n",
    "def kmeans(X, k, max_iters=100):\n",
    "    # Randomly initialize the centroids\n",
    "    centroids = X[np.random.choice(X.shape[0], k, replace=False)]\n",
    "\n",
    "    for _ in range(max_iters):\n",
    "        # Compute distances from each point to each centroid\n",
    "        distances = np.linalg.norm(X[:, np.newaxis] - centroids, axis=2)\n",
    "        # Assign clusters based on closest centroid\n",
    "        labels = np.argmin(distances, axis=1)\n",
    "        # Compute new centroids as the mean of points in each cluster\n",
    "        new_centroids = np.array([X[labels == i].mean(axis=0) for i in range(k)])\n",
    "        if np.all(centroids == new_centroids):\n",
    "            break\n",
    "        centroids = new_centroids\n",
    "\n",
    "    return centroids, labels\n",
    "\n",
    "# Simulated data\n",
    "data = np.random.rand(100, 2)\n",
    "\n",
    "# Apply k-means clustering\n",
    "centroids, labels = kmeans(data, k=3)\n",
    "\n",
    "print(\"Centroids of clusters:\")\n",
    "print(centroids)\n",
    "\n",
    "print(\"\\nLabels of each point:\")\n",
    "print(labels)\n"
   ]
  },
  {
   "cell_type": "code",
   "execution_count": 32,
   "id": "073055f6",
   "metadata": {},
   "outputs": [
    {
     "name": "stdout",
     "output_type": "stream",
     "text": [
      "Daily Returns:\n",
      "[ 3.13223714e+00  3.14254426e+00  1.00780147e+00 -6.90320731e-01\n",
      "  4.32425360e+00 -9.71036750e-01  3.21200831e+01 -5.22058012e-01\n",
      " -8.36213132e-01  9.94131222e+00 -9.60717778e-01  3.27882935e+01\n",
      " -5.55405392e-01 -2.08700704e-01 -4.16355844e-01  2.87656058e+00\n",
      " -3.05310859e-01  8.10250738e-01 -2.31260663e-01  1.23409644e-01\n",
      " -1.58992396e-01 -1.83535563e-01  1.27602203e-01 -3.74403571e-01\n",
      " -5.83558347e-01  1.33918866e+00  1.55318505e+00 -9.48845510e-01\n",
      "  2.53250729e+00  1.87043567e+00  5.11690631e-01 -7.23861353e-01\n",
      " -9.25914779e-01  4.31074333e+01 -7.88346874e-01 -5.04172779e-01\n",
      "  6.08118295e+00 -1.48710987e-01  9.01397870e-01 -1.70706700e-01\n",
      " -3.98093866e-01 -5.54553668e-01 -7.70926130e-01  2.04457457e+01\n",
      " -6.16567054e-02 -5.22627982e-01 -9.73437050e-02 -4.34047669e-01\n",
      "  1.16632672e+00 -4.39464950e-01  1.06463217e+00 -2.27839473e-01\n",
      " -5.34829216e-01  3.55757880e+00 -8.43678075e-01  3.07734564e+00\n",
      " -3.47264508e-01  1.71083480e+00 -2.94610403e-01  1.65844092e-02\n",
      "  6.98045503e-03 -4.38912120e-01 -8.72003372e-01  1.18129713e+01\n",
      " -7.29196583e-01  3.61963930e+00 -2.52344087e-01  1.00166802e-01\n",
      " -3.36196022e-01  7.97316284e-01 -8.14195306e-01 -6.06877697e-01\n",
      "  1.05842717e+01  3.82178733e-01 -8.87694946e-01  3.09938856e+00\n",
      " -3.74127065e-01  2.34077406e+00 -3.20197270e-02 -5.12811926e-01\n",
      "  5.83006200e-01 -7.59689941e-01  2.50994775e+00 -1.90348757e-01\n",
      " -4.00778610e-01  9.40554379e-01 -4.48547794e-01  1.68866763e+00\n",
      " -8.95758677e-02  4.80566725e-03  1.54376498e-02 -4.68317506e-01\n",
      "  5.83228452e-01 -4.25396357e-01  1.69500575e+00 -6.69289159e-01\n",
      "  4.43484310e-01  4.89047926e-01 -9.65568726e-01]\n",
      "\n",
      "Volatility:\n",
      "6.773148772798074\n"
     ]
    }
   ],
   "source": [
    "import numpy as np\n",
    "\n",
    "# Simulated daily closing prices of a stock\n",
    "closing_prices = np.random.rand(100) * 100\n",
    "\n",
    "# Calculate daily returns\n",
    "daily_returns = (closing_prices[1:] - closing_prices[:-1]) / closing_prices[:-1]\n",
    "\n",
    "# Calculate volatility (standard deviation of returns)\n",
    "volatility = np.std(daily_returns)\n",
    "\n",
    "print(\"Daily Returns:\")\n",
    "print(daily_returns)\n",
    "\n",
    "print(\"\\nVolatility:\")\n",
    "print(volatility)\n"
   ]
  },
  {
   "cell_type": "code",
   "execution_count": 33,
   "id": "d4c89897",
   "metadata": {},
   "outputs": [
    {
     "name": "stdout",
     "output_type": "stream",
     "text": [
      "Loaded Data:\n",
      "[[0.55154497 0.13634215 0.53635193]\n",
      " [0.44845265 0.092907   0.61178061]\n",
      " [0.99528108 0.70099765 0.02787907]\n",
      " [0.61331733 0.85869023 0.39725174]\n",
      " [0.86815574 0.72917259 0.16799151]\n",
      " [0.15770153 0.01372324 0.6787915 ]\n",
      " [0.02307722 0.93397675 0.69757604]\n",
      " [0.33899595 0.25894711 0.24049416]\n",
      " [0.7789669  0.89294861 0.40009791]\n",
      " [0.07391939 0.06059724 0.0071726 ]\n",
      " [0.00576885 0.27634386 0.58301805]\n",
      " [0.63098493 0.94478633 0.6310856 ]\n",
      " [0.57236741 0.04531027 0.19491793]\n",
      " [0.23763231 0.69092518 0.86355908]\n",
      " [0.03817916 0.1533996  0.72427823]\n",
      " [0.1385593  0.84400339 0.18947646]\n",
      " [0.55594111 0.57549009 0.73096641]\n",
      " [0.54024235 0.57295308 0.36675511]\n",
      " [0.01222485 0.04522267 0.77992039]\n",
      " [0.3954929  0.97667965 0.64123486]\n",
      " [0.74080448 0.50276254 0.06356031]\n",
      " [0.20849905 0.71116738 0.72801285]\n",
      " [0.42611232 0.70138194 0.54263793]\n",
      " [0.49782419 0.34424113 0.52852576]\n",
      " [0.6209086  0.53493544 0.43883858]\n",
      " [0.70071511 0.50669295 0.67906771]\n",
      " [0.68057463 0.30973707 0.44597499]\n",
      " [0.98371029 0.40485186 0.61064145]\n",
      " [0.95430687 0.48686045 0.10951138]\n",
      " [0.3163867  0.6943446  0.25328756]\n",
      " [0.8205995  0.82146378 0.57089679]\n",
      " [0.59324256 0.62183383 0.59028013]\n",
      " [0.51547669 0.12311042 0.28004796]\n",
      " [0.82650334 0.41297569 0.46071762]\n",
      " [0.53230356 0.46679648 0.69629652]\n",
      " [0.72437694 0.27604879 0.639931  ]\n",
      " [0.41105467 0.92207117 0.06009899]\n",
      " [0.57537252 0.28819862 0.28311541]\n",
      " [0.32025035 0.85233732 0.75874228]\n",
      " [0.50550171 0.4390003  0.10197156]\n",
      " [0.26002177 0.50541594 0.92117359]\n",
      " [0.47472408 0.06343209 0.87526607]\n",
      " [0.37455064 0.4561754  0.17490675]\n",
      " [0.59814907 0.36792802 0.45111025]\n",
      " [0.18087639 0.48977718 0.14506132]\n",
      " [0.18253553 0.77341982 0.75007909]\n",
      " [0.65502789 0.93752874 0.93631174]\n",
      " [0.87048713 0.05001611 0.52397429]\n",
      " [0.73821813 0.04478867 0.0627264 ]\n",
      " [0.6099524  0.08973836 0.196109  ]\n",
      " [0.09424504 0.656379   0.50123285]\n",
      " [0.4530923  0.6406589  0.70564928]\n",
      " [0.89908704 0.16827962 0.5270446 ]\n",
      " [0.00185731 0.14060207 0.46170528]\n",
      " [0.03792321 0.37524586 0.38326143]\n",
      " [0.1939917  0.05626759 0.31911804]\n",
      " [0.6739747  0.08321706 0.3472343 ]\n",
      " [0.42429046 0.20125148 0.91914059]\n",
      " [0.08428024 0.47087023 0.77156176]\n",
      " [0.57896914 0.081149   0.67010713]\n",
      " [0.59292842 0.63198245 0.28275928]\n",
      " [0.5603755  0.29453027 0.56881229]\n",
      " [0.13570279 0.61129438 0.81545355]\n",
      " [0.5106472  0.72142711 0.85860796]\n",
      " [0.76649501 0.22909235 0.9459928 ]\n",
      " [0.49680457 0.65249382 0.97300363]\n",
      " [0.07275615 0.36696447 0.00240082]\n",
      " [0.56157219 0.29819782 0.6269538 ]\n",
      " [0.21047401 0.17469204 0.29753911]\n",
      " [0.49249692 0.42704234 0.50327401]\n",
      " [0.15222925 0.38031136 0.58206632]\n",
      " [0.89622667 0.51620826 0.9155236 ]\n",
      " [0.08415077 0.57332568 0.92503888]\n",
      " [0.91022649 0.43159942 0.62191598]\n",
      " [0.25677056 0.18412596 0.41436538]\n",
      " [0.04607023 0.24236979 0.16049798]\n",
      " [0.69244205 0.37021181 0.86303981]\n",
      " [0.00645922 0.40092467 0.48241477]\n",
      " [0.24935559 0.89871591 0.59633819]\n",
      " [0.7977007  0.93803465 0.85968869]\n",
      " [0.45920448 0.69363846 0.35073948]\n",
      " [0.08270923 0.23702998 0.71984948]\n",
      " [0.08862182 0.392912   0.61507214]\n",
      " [0.7920609  0.42641796 0.27129561]\n",
      " [0.24881736 0.87777684 0.30595813]\n",
      " [0.87192767 0.93967939 0.50548962]\n",
      " [0.91314825 0.00401352 0.8735495 ]\n",
      " [0.19107363 0.41329872 0.1690118 ]\n",
      " [0.49828778 0.88433978 0.68370902]\n",
      " [0.91063544 0.75550226 0.19987579]\n",
      " [0.97866897 0.05499246 0.01936469]\n",
      " [0.34533322 0.43826546 0.42351095]\n",
      " [0.59415516 0.01845376 0.13124351]\n",
      " [0.40387381 0.21632182 0.67106902]\n",
      " [0.86647645 0.39417521 0.58108041]\n",
      " [0.5184519  0.53454527 0.27152134]\n",
      " [0.88236248 0.44451568 0.73624238]\n",
      " [0.93801873 0.36447457 0.31731845]\n",
      " [0.57561959 0.04942481 0.40359704]\n",
      " [0.91379509 0.22977919 0.28049154]]\n"
     ]
    }
   ],
   "source": [
    "import numpy as np\n",
    "\n",
    "# Simulated data\n",
    "data = np.random.rand(100, 3)\n",
    "\n",
    "# Save to a file\n",
    "np.save('data.npy', data)\n",
    "\n",
    "# Load from a file\n",
    "loaded_data = np.load('data.npy')\n",
    "\n",
    "print(\"Loaded Data:\")\n",
    "print(loaded_data)\n"
   ]
  },
  {
   "cell_type": "code",
   "execution_count": null,
   "id": "251b4a95",
   "metadata": {},
   "outputs": [],
   "source": []
  }
 ],
 "metadata": {
  "kernelspec": {
   "display_name": "Python 3 (ipykernel)",
   "language": "python",
   "name": "python3"
  },
  "language_info": {
   "codemirror_mode": {
    "name": "ipython",
    "version": 3
   },
   "file_extension": ".py",
   "mimetype": "text/x-python",
   "name": "python",
   "nbconvert_exporter": "python",
   "pygments_lexer": "ipython3",
   "version": "3.11.5"
  }
 },
 "nbformat": 4,
 "nbformat_minor": 5
}
