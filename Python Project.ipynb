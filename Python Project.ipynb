{
 "cells": [
  {
   "cell_type": "markdown",
   "id": "45e38c96",
   "metadata": {},
   "source": [
    "# # Python Project"
   ]
  },
  {
   "cell_type": "markdown",
   "id": "322f0e4a",
   "metadata": {},
   "source": [
    "# Python  Project about Basic "
   ]
  },
  {
   "cell_type": "markdown",
   "id": "16c3c9f3",
   "metadata": {},
   "source": [
    "we are going to write our first programm."
   ]
  },
  {
   "cell_type": "code",
   "execution_count": 1,
   "id": "4fd33a5f",
   "metadata": {},
   "outputs": [
    {
     "name": "stdout",
     "output_type": "stream",
     "text": [
      "Hello Viveka!!!\n"
     ]
    }
   ],
   "source": [
    "print(\"Hello Viveka!!!\")"
   ]
  },
  {
   "cell_type": "markdown",
   "id": "5b391be9",
   "metadata": {},
   "source": [
    "# Python Comments"
   ]
  },
  {
   "cell_type": "code",
   "execution_count": 2,
   "id": "7040cdf9",
   "metadata": {},
   "outputs": [
    {
     "name": "stdout",
     "output_type": "stream",
     "text": [
      "Hello Viveka\n"
     ]
    }
   ],
   "source": [
    "#this is comment\n",
    "print(\"Hello Viveka\")"
   ]
  },
  {
   "cell_type": "markdown",
   "id": "17819be0",
   "metadata": {},
   "source": [
    "# Variables & Operators"
   ]
  },
  {
   "cell_type": "code",
   "execution_count": 3,
   "id": "618dc7b7",
   "metadata": {},
   "outputs": [
    {
     "name": "stdout",
     "output_type": "stream",
     "text": [
      "5\n"
     ]
    }
   ],
   "source": [
    "a = 5\n",
    "print(a)"
   ]
  },
  {
   "cell_type": "code",
   "execution_count": 4,
   "id": "0f71622c",
   "metadata": {},
   "outputs": [
    {
     "name": "stdout",
     "output_type": "stream",
     "text": [
      "Viveka\n"
     ]
    }
   ],
   "source": [
    "x = (\"Viveka\")\n",
    "print(x)"
   ]
  },
  {
   "cell_type": "code",
   "execution_count": 5,
   "id": "f7e589d4",
   "metadata": {},
   "outputs": [
    {
     "name": "stdout",
     "output_type": "stream",
     "text": [
      "6\n"
     ]
    }
   ],
   "source": [
    "_a = 6\n",
    "print(_a)"
   ]
  },
  {
   "cell_type": "markdown",
   "id": "4b131e92",
   "metadata": {},
   "source": [
    "# Many values to multiple Variables"
   ]
  },
  {
   "cell_type": "code",
   "execution_count": 6,
   "id": "248f991e",
   "metadata": {},
   "outputs": [
    {
     "name": "stdout",
     "output_type": "stream",
     "text": [
      "oeange banana cherry\n"
     ]
    }
   ],
   "source": [
    "x,y,z = \"oeange\" , \"banana\" , \"cherry\"\n",
    "print(x,y,z)"
   ]
  },
  {
   "cell_type": "markdown",
   "id": "7fbf491c",
   "metadata": {},
   "source": [
    "# Python output Variables"
   ]
  },
  {
   "cell_type": "code",
   "execution_count": 7,
   "id": "6b2e53dd",
   "metadata": {},
   "outputs": [
    {
     "name": "stdout",
     "output_type": "stream",
     "text": [
      "python is amazing\n",
      "python\n",
      "is\n"
     ]
    }
   ],
   "source": [
    "x = \"python\"\n",
    "y = \"is\"\n",
    "z = \"amazing\"\n",
    "print(x,y,z)\n",
    "\n",
    "print(x)\n",
    "print(y)"
   ]
  },
  {
   "cell_type": "markdown",
   "id": "7d9f5481",
   "metadata": {},
   "source": [
    "# Data Types"
   ]
  },
  {
   "cell_type": "code",
   "execution_count": 8,
   "id": "c8e19917",
   "metadata": {},
   "outputs": [
    {
     "name": "stdout",
     "output_type": "stream",
     "text": [
      "2\n",
      "<class 'int'>\n"
     ]
    }
   ],
   "source": [
    "x = 2\n",
    "print(x)\n",
    "print(type(x))"
   ]
  },
  {
   "cell_type": "code",
   "execution_count": 9,
   "id": "b44b5db0",
   "metadata": {},
   "outputs": [
    {
     "name": "stdout",
     "output_type": "stream",
     "text": [
      "5.5\n",
      "<class 'float'>\n"
     ]
    }
   ],
   "source": [
    "y = 5.5\n",
    "print(y)\n",
    "print(type(y))"
   ]
  },
  {
   "cell_type": "code",
   "execution_count": 10,
   "id": "c669ea1e",
   "metadata": {},
   "outputs": [
    {
     "name": "stdout",
     "output_type": "stream",
     "text": [
      "(2+5j)\n",
      "<class 'complex'>\n"
     ]
    }
   ],
   "source": [
    "a = 2+5j\n",
    "print(a)\n",
    "print(type(a))"
   ]
  },
  {
   "cell_type": "code",
   "execution_count": 11,
   "id": "ce25163d",
   "metadata": {},
   "outputs": [
    {
     "name": "stdout",
     "output_type": "stream",
     "text": [
      "[1, 2, 3, 5, 4, 9, 6, 5, 8, 9]\n"
     ]
    }
   ],
   "source": [
    "b = [1,2,3,5,4,9,6,5,8,9]\n",
    "print(b)"
   ]
  },
  {
   "cell_type": "code",
   "execution_count": 12,
   "id": "add55761",
   "metadata": {},
   "outputs": [
    {
     "name": "stdout",
     "output_type": "stream",
     "text": [
      "Variable   Type       Data/Info\n",
      "-------------------------------\n",
      "a          complex    (2+5j)\n",
      "b          list       n=10\n",
      "x          int        2\n",
      "y          float      5.5\n",
      "z          str        amazing\n"
     ]
    }
   ],
   "source": [
    "%whos"
   ]
  },
  {
   "cell_type": "markdown",
   "id": "6be20648",
   "metadata": {},
   "source": [
    "# built in functions"
   ]
  },
  {
   "cell_type": "markdown",
   "id": "0c30d2f6",
   "metadata": {},
   "source": [
    "# abs() function"
   ]
  },
  {
   "cell_type": "code",
   "execution_count": 13,
   "id": "0e05675a",
   "metadata": {},
   "outputs": [
    {
     "name": "stdout",
     "output_type": "stream",
     "text": [
      "7.25\n"
     ]
    }
   ],
   "source": [
    "x = abs(-7.25)\n",
    "print(x)"
   ]
  },
  {
   "cell_type": "markdown",
   "id": "72d1d68c",
   "metadata": {},
   "source": [
    "# Python Bytes Function"
   ]
  },
  {
   "cell_type": "code",
   "execution_count": 15,
   "id": "92c52c92",
   "metadata": {},
   "outputs": [
    {
     "name": "stdout",
     "output_type": "stream",
     "text": [
      "b'\\x00\\x00\\x00\\x00\\x00\\x00\\x00\\x00\\x00\\x00\\x00\\x00\\x00\\x00\\x00\\x00\\x00\\x00\\x00\\x00\\x00\\x00\\x00\\x00\\x00\\x00\\x00\\x00\\x00\\x00\\x00\\x00\\x00\\x00\\x00\\x00\\x00\\x00\\x00\\x00\\x00\\x00\\x00\\x00\\x00\\x00\\x00\\x00\\x00\\x00\\x00\\x00\\x00\\x00\\x00\\x00\\x00\\x00\\x00\\x00\\x00\\x00\\x00\\x00\\x00\\x00\\x00'\n"
     ]
    }
   ],
   "source": [
    "y = bytes(67)\n",
    "print(y)"
   ]
  },
  {
   "cell_type": "markdown",
   "id": "5a92e227",
   "metadata": {},
   "source": [
    "# python chr() function"
   ]
  },
  {
   "cell_type": "code",
   "execution_count": 16,
   "id": "8a279a24",
   "metadata": {},
   "outputs": [
    {
     "name": "stdout",
     "output_type": "stream",
     "text": [
      "a\n"
     ]
    }
   ],
   "source": [
    "x = chr(97)\n",
    "print(x)"
   ]
  },
  {
   "cell_type": "code",
   "execution_count": 17,
   "id": "7b3a1808",
   "metadata": {},
   "outputs": [
    {
     "name": "stdout",
     "output_type": "stream",
     "text": [
      "b\n"
     ]
    }
   ],
   "source": [
    "y = chr(98)\n",
    "print(y)"
   ]
  },
  {
   "cell_type": "code",
   "execution_count": 18,
   "id": "15ff8d68",
   "metadata": {},
   "outputs": [
    {
     "name": "stdout",
     "output_type": "stream",
     "text": [
      "c\n"
     ]
    }
   ],
   "source": [
    "y = chr(99)\n",
    "print(y)"
   ]
  },
  {
   "cell_type": "markdown",
   "id": "a0d2d1a4",
   "metadata": {},
   "source": [
    "# Complex function"
   ]
  },
  {
   "cell_type": "code",
   "execution_count": 19,
   "id": "58f04836",
   "metadata": {},
   "outputs": [
    {
     "name": "stdout",
     "output_type": "stream",
     "text": [
      "(3+5j)\n"
     ]
    }
   ],
   "source": [
    "x = complex(3,5)\n",
    "print(x)"
   ]
  },
  {
   "cell_type": "code",
   "execution_count": 20,
   "id": "1c1d989e",
   "metadata": {},
   "outputs": [
    {
     "name": "stdout",
     "output_type": "stream",
     "text": [
      "(2.5+3.96j)\n"
     ]
    }
   ],
   "source": [
    "y = complex(2.5, 3.96)\n",
    "print(y)"
   ]
  },
  {
   "cell_type": "markdown",
   "id": "608df6ca",
   "metadata": {},
   "source": [
    "# Float function"
   ]
  },
  {
   "cell_type": "code",
   "execution_count": 21,
   "id": "8ffb1dcc",
   "metadata": {},
   "outputs": [
    {
     "name": "stdout",
     "output_type": "stream",
     "text": [
      "3.0\n"
     ]
    }
   ],
   "source": [
    "x = float(3)\n",
    "print(x)"
   ]
  },
  {
   "cell_type": "markdown",
   "id": "b3057bdc",
   "metadata": {},
   "source": [
    "# int function"
   ]
  },
  {
   "cell_type": "code",
   "execution_count": 22,
   "id": "c9a4320f",
   "metadata": {},
   "outputs": [
    {
     "name": "stdout",
     "output_type": "stream",
     "text": [
      "12\n"
     ]
    }
   ],
   "source": [
    "x = int(12.598)\n",
    "print(x)"
   ]
  },
  {
   "cell_type": "code",
   "execution_count": 23,
   "id": "9e602db1",
   "metadata": {},
   "outputs": [
    {
     "name": "stdout",
     "output_type": "stream",
     "text": [
      "128874\n"
     ]
    }
   ],
   "source": [
    "z = int(128874.365898)\n",
    "print(z)"
   ]
  },
  {
   "cell_type": "markdown",
   "id": "da48ed83",
   "metadata": {},
   "source": [
    "# str() function"
   ]
  },
  {
   "cell_type": "code",
   "execution_count": 24,
   "id": "1ee8e366",
   "metadata": {},
   "outputs": [
    {
     "name": "stdout",
     "output_type": "stream",
     "text": [
      "256.68\n",
      "<class 'str'>\n"
     ]
    }
   ],
   "source": [
    "a = str(\"256.68\")\n",
    "print(a)\n",
    "print(type(a))"
   ]
  },
  {
   "cell_type": "markdown",
   "id": "c3ba23c3",
   "metadata": {},
   "source": [
    "# Help() function"
   ]
  },
  {
   "cell_type": "code",
   "execution_count": 25,
   "id": "4005842b",
   "metadata": {},
   "outputs": [
    {
     "name": "stdout",
     "output_type": "stream",
     "text": [
      "Help on built-in function print in module builtins:\n",
      "\n",
      "print(*args, sep=' ', end='\\n', file=None, flush=False)\n",
      "    Prints the values to a stream, or to sys.stdout by default.\n",
      "    \n",
      "    sep\n",
      "      string inserted between values, default a space.\n",
      "    end\n",
      "      string appended after the last value, default a newline.\n",
      "    file\n",
      "      a file-like object (stream); defaults to the current sys.stdout.\n",
      "    flush\n",
      "      whether to forcibly flush the stream.\n",
      "\n"
     ]
    }
   ],
   "source": [
    "help(print)"
   ]
  },
  {
   "cell_type": "markdown",
   "id": "5b79823a",
   "metadata": {},
   "source": [
    "# input() function"
   ]
  },
  {
   "cell_type": "code",
   "execution_count": 26,
   "id": "b1e6abef",
   "metadata": {},
   "outputs": [
    {
     "name": "stdout",
     "output_type": "stream",
     "text": [
      "enter your nameViveka Gohil\n",
      "hello Viveka Gohil\n"
     ]
    }
   ],
   "source": [
    "x = input(\"enter your name\")\n",
    "print( \"hello\", x)"
   ]
  },
  {
   "cell_type": "code",
   "execution_count": 27,
   "id": "af2ec550",
   "metadata": {},
   "outputs": [
    {
     "name": "stdout",
     "output_type": "stream",
     "text": [
      "enter your age23\n",
      "your age is 23\n"
     ]
    }
   ],
   "source": [
    "y = input(\"enter your age\")\n",
    "print(\"your age is\", y)"
   ]
  },
  {
   "cell_type": "code",
   "execution_count": 30,
   "id": "76475623",
   "metadata": {},
   "outputs": [
    {
     "name": "stdout",
     "output_type": "stream",
     "text": [
      "enter your nameMeet\n",
      "hello Meet\n",
      "enter your age23\n",
      "your age is 23\n"
     ]
    }
   ],
   "source": [
    "x = input(\"enter your name\")\n",
    "print( \"hello\", x)\n",
    "y = input(\"enter your age\")\n",
    "print(\"your age is\", y)\n",
    "\n"
   ]
  },
  {
   "cell_type": "code",
   "execution_count": 29,
   "id": "1a95b98b",
   "metadata": {},
   "outputs": [
    {
     "name": "stdout",
     "output_type": "stream",
     "text": [
      "enter your nameSahil Mandani\n",
      "hello Sahil Mandani\n",
      "enter your age25.\n",
      "your age is 25.\n"
     ]
    }
   ],
   "source": [
    "x = input(\"enter your name\")\n",
    "print( \"hello\", x)\n",
    "y = input(\"enter your age\")\n",
    "print(\"your age is\", y)\n"
   ]
  },
  {
   "cell_type": "markdown",
   "id": "3ecefdb1",
   "metadata": {},
   "source": [
    "# Control Flow Statement"
   ]
  },
  {
   "cell_type": "markdown",
   "id": "a4c2ed11",
   "metadata": {},
   "source": [
    "# if Condition"
   ]
  },
  {
   "cell_type": "markdown",
   "id": "6a2af86c",
   "metadata": {},
   "source": [
    "write a programm to calculate the percantage of a student in the subjects maths science socialv english and hindi"
   ]
  },
  {
   "cell_type": "code",
   "execution_count": 32,
   "id": "35f90441",
   "metadata": {
    "scrolled": true
   },
   "outputs": [
    {
     "name": "stdout",
     "output_type": "stream",
     "text": [
      "enter the student name Sahil Mandani.\n",
      "enter the marks scored in english80\n",
      "enter the marks scored in hindi76\n",
      "enter the marks scored in social90\n",
      "enter the marks scored in science96\n",
      "enter the marks scored in maths98\n",
      "The percantage scored by student is 88.0\n"
     ]
    }
   ],
   "source": [
    "x = input(\"enter the student name\")\n",
    "a = int(input(\"enter the marks scored in english\"))\n",
    "b = int(input(\"enter the marks scored in hindi\"))\n",
    "c = int(input(\"enter the marks scored in social\"))\n",
    "d = int(input(\"enter the marks scored in science\"))\n",
    "e = int(input(\"enter the marks scored in maths\"))\n",
    "n = ((a+b+c+d+e)/500)*100 \n",
    "print(\"The percantage scored by student is\" , n)\n",
    "\n",
    "\n"
   ]
  },
  {
   "cell_type": "code",
   "execution_count": 33,
   "id": "689dd928",
   "metadata": {},
   "outputs": [
    {
     "name": "stdout",
     "output_type": "stream",
     "text": [
      "enter the student nameMeet\n",
      "enter the marks scored in english98\n",
      "enter the marks scored in hindi 97\n",
      "enter the marks scored in social 99\n",
      "enter the marks scored in science96\n",
      "enter the marks scored in maths87\n",
      "The percantage scored by student is 95.39999999999999\n"
     ]
    }
   ],
   "source": [
    "x = input(\"enter the student name\")\n",
    "a = int(input(\"enter the marks scored in english\"))\n",
    "b = int(input(\"enter the marks scored in hindi\"))\n",
    "c = int(input(\"enter the marks scored in social\"))\n",
    "d = int(input(\"enter the marks scored in science\"))\n",
    "e = int(input(\"enter the marks scored in maths\"))\n",
    "n = ((a+b+c+d+e)/500)*100\n",
    "print(\"The percantage scored by student is\" , n)"
   ]
  },
  {
   "cell_type": "code",
   "execution_count": 34,
   "id": "fd324fd1",
   "metadata": {},
   "outputs": [
    {
     "name": "stdout",
     "output_type": "stream",
     "text": [
      "enter the percentge scored by a student 89\n",
      "B grade\n"
     ]
    }
   ],
   "source": [
    "a = int(input(\"enter the percentge scored by a student\"))\n",
    "\n",
    "if a>= 90:\n",
    "    print(\"A grade\")\n",
    "if a>=75 and a<90:\n",
    "    print(\"B grade\")\n",
    "if a>=65 and a<75:\n",
    "    print(\"C grade\")"
   ]
  },
  {
   "cell_type": "markdown",
   "id": "32dfe678",
   "metadata": {},
   "source": [
    "# if else statement"
   ]
  },
  {
   "cell_type": "code",
   "execution_count": 35,
   "id": "1ad40762",
   "metadata": {},
   "outputs": [
    {
     "name": "stdout",
     "output_type": "stream",
     "text": [
      "enter the number5\n",
      "hello\n"
     ]
    }
   ],
   "source": [
    "a = int(input(\"enter the number\"))\n",
    "if a%5==0:\n",
    "    print(\"hello\")\n",
    "else:\n",
    "    print(\"bye\")"
   ]
  },
  {
   "cell_type": "code",
   "execution_count": 36,
   "id": "5ab3ec0f",
   "metadata": {},
   "outputs": [
    {
     "name": "stdout",
     "output_type": "stream",
     "text": [
      "enter the number 28\n",
      "bye\n"
     ]
    }
   ],
   "source": [
    "a = int(input(\"enter the number\"))\n",
    "if a%5==0:\n",
    "    print(\"hello\")\n",
    "else:\n",
    "    print(\"bye\")\n"
   ]
  },
  {
   "cell_type": "code",
   "execution_count": 37,
   "id": "b4a7f8bb",
   "metadata": {},
   "outputs": [
    {
     "name": "stdout",
     "output_type": "stream",
     "text": [
      "enter the city Jaipur.\n",
      "no record found\n"
     ]
    }
   ],
   "source": [
    "city = input(\"enter the city\")\n",
    "if city == \"Delhi\":\n",
    "    print(\"The monument in Delhi is redfort\")\n",
    "elif city == \"Agra\":\n",
    "    print(\"The monument in Agra is Taj mahal\")\n",
    "elif city == \"jaipur\":\n",
    "    print(\"The monument in jaipur is jalmahal\")\n",
    "elif city == \"orissa\":\n",
    "    print(\"The monument in orissa is kornak Temple\")\n",
    "elif city == \"hydrabad\":\n",
    "    print(\"The monument in hydeabad is chsarminar\")\n",
    "else:\n",
    "    print(\"no record found\")"
   ]
  },
  {
   "cell_type": "markdown",
   "id": "89ea642c",
   "metadata": {},
   "source": [
    "# concept of loops"
   ]
  },
  {
   "cell_type": "markdown",
   "id": "9e44ea31",
   "metadata": {},
   "source": [
    "# program to display numbers from 1 to 5"
   ]
  },
  {
   "cell_type": "code",
   "execution_count": 38,
   "id": "cab41989",
   "metadata": {},
   "outputs": [
    {
     "name": "stdout",
     "output_type": "stream",
     "text": [
      "1\n",
      "2\n",
      "3\n",
      "4\n",
      "5\n"
     ]
    }
   ],
   "source": [
    "i = 1\n",
    "n = 5\n",
    "while i<=n:\n",
    "    print(i)\n",
    "    i = i + 1"
   ]
  },
  {
   "cell_type": "code",
   "execution_count": 39,
   "id": "68190512",
   "metadata": {},
   "outputs": [
    {
     "name": "stdout",
     "output_type": "stream",
     "text": [
      "enter the value 6\n",
      "6\n",
      "12\n",
      "18\n",
      "24\n",
      "30\n",
      "36\n",
      "42\n",
      "48\n",
      "54\n",
      "60\n",
      "this is the multiplication table\n"
     ]
    }
   ],
   "source": [
    "x = int(input(\"enter the value\"))\n",
    "i = 1\n",
    "while i<=10:\n",
    "    print(x*i)\n",
    "    i = i + 1\n",
    "print(\"this is the multiplication table\")"
   ]
  },
  {
   "cell_type": "code",
   "execution_count": 40,
   "id": "51fe3338",
   "metadata": {},
   "outputs": [
    {
     "name": "stdout",
     "output_type": "stream",
     "text": [
      "b\n",
      "a\n",
      "n\n",
      "a\n",
      "n\n",
      "a\n"
     ]
    }
   ],
   "source": [
    "for x in \"banana\":\n",
    "    print(x)"
   ]
  },
  {
   "cell_type": "markdown",
   "id": "a55067cc",
   "metadata": {},
   "source": [
    "# user defined function"
   ]
  },
  {
   "cell_type": "code",
   "execution_count": 42,
   "id": "69170487",
   "metadata": {},
   "outputs": [],
   "source": [
    "def my_function():\n",
    "    print(\"hello class\")\n",
    "    print(\"we are learning python\")"
   ]
  },
  {
   "cell_type": "markdown",
   "id": "00d3b629",
   "metadata": {},
   "source": [
    "# calling a function"
   ]
  },
  {
   "cell_type": "code",
   "execution_count": 43,
   "id": "52cc9e3d",
   "metadata": {},
   "outputs": [
    {
     "name": "stdout",
     "output_type": "stream",
     "text": [
      "hello class\n",
      "we are learning python\n"
     ]
    }
   ],
   "source": [
    "my_function()"
   ]
  },
  {
   "cell_type": "code",
   "execution_count": 44,
   "id": "8b699f25",
   "metadata": {},
   "outputs": [],
   "source": [
    "def my_function(fname):\n",
    "    print(fname + \" \" + \"Gohil\")"
   ]
  },
  {
   "cell_type": "code",
   "execution_count": 45,
   "id": "fb51c706",
   "metadata": {},
   "outputs": [
    {
     "name": "stdout",
     "output_type": "stream",
     "text": [
      "Viveka Gohil\n",
      "Bansari Gohil\n",
      "Prince Gohil\n"
     ]
    }
   ],
   "source": [
    "my_function(\"Viveka\")\n",
    "my_function(\"Bansari\")\n",
    "my_function(\"Prince\")"
   ]
  },
  {
   "cell_type": "code",
   "execution_count": 46,
   "id": "4e1f745c",
   "metadata": {},
   "outputs": [
    {
     "ename": "SyntaxError",
     "evalue": "invalid syntax (3183584524.py, line 1)",
     "output_type": "error",
     "traceback": [
      "\u001b[1;36m  Cell \u001b[1;32mIn[46], line 1\u001b[1;36m\u001b[0m\n\u001b[1;33m    if 500 unit used - pay 5 for each unit\u001b[0m\n\u001b[1;37m           ^\u001b[0m\n\u001b[1;31mSyntaxError\u001b[0m\u001b[1;31m:\u001b[0m invalid syntax\n"
     ]
    }
   ],
   "source": [
    "if 500 unit used - pay 5 for each unit\n",
    "if 500 unit used - pay 5 for each unit\n",
    "if 500 unit used - pay 5 for each unit\n",
    "if more than 1000 unit used - pay 20 Rs for each unit"
   ]
  },
  {
   "cell_type": "code",
   "execution_count": 47,
   "id": "eb867707",
   "metadata": {},
   "outputs": [],
   "source": [
    "def electricity_bill(n):\n",
    "    if n<=500:\n",
    "        print(\"your bill is RS\", n*5)\n",
    "    elif n>500 and n<700:\n",
    "        print(\"your bill is RS\", n*10)\n",
    "    elif n>700 and n<1000:\n",
    "        print(\"your bill is RS\", n*15)\n",
    "    elif n>1000:\n",
    "        print(\"your bill is RS\", n*20)"
   ]
  },
  {
   "cell_type": "code",
   "execution_count": 48,
   "id": "b8ddd8aa",
   "metadata": {},
   "outputs": [],
   "source": [
    "def instructions():\n",
    "    print(\"last date of paying the bill is 20 april\")\n",
    "    print(\"aftyer 20 april you need to pay 1000 Rs as a fine\")\n",
    "    print(\"electricity office surat\")"
   ]
  },
  {
   "cell_type": "code",
   "execution_count": 49,
   "id": "ac9cba43",
   "metadata": {},
   "outputs": [
    {
     "name": "stdout",
     "output_type": "stream",
     "text": [
      "Enter the name of a cusstomer Meet.\n",
      "Enter the unit of electricity you have used650\n",
      "your bill is RS 6500\n",
      "\n",
      "last date of paying the bill is 20 april\n",
      "aftyer 20 april you need to pay 1000 Rs as a fine\n",
      "electricity office surat\n",
      "Enter the name of a cusstomer478\n",
      "Enter the unit of electricity you have used987\n",
      "your bill is RS 14805\n",
      "\n",
      "last date of paying the bill is 20 april\n",
      "aftyer 20 april you need to pay 1000 Rs as a fine\n",
      "electricity office surat\n",
      "Enter the name of a cusstomer999\n",
      "Enter the unit of electricity you have used1000\n",
      "\n",
      "last date of paying the bill is 20 april\n",
      "aftyer 20 april you need to pay 1000 Rs as a fine\n",
      "electricity office surat\n"
     ]
    }
   ],
   "source": [
    "for i in range(3):\n",
    "    a = input(\"Enter the name of a cusstomer\")\n",
    "    n = int(input(\"Enter the unit of electricity you have used\"))\n",
    "    electricity_bill(n)\n",
    "    print()\n",
    "    instructions()"
   ]
  },
  {
   "cell_type": "markdown",
   "id": "85da4d08",
   "metadata": {},
   "source": [
    "# List in python"
   ]
  },
  {
   "cell_type": "code",
   "execution_count": 50,
   "id": "e210c37f",
   "metadata": {},
   "outputs": [
    {
     "name": "stdout",
     "output_type": "stream",
     "text": [
      "['apple', 'banana', 'cherry']\n",
      "<class 'list'>\n"
     ]
    }
   ],
   "source": [
    "mylist = [\"apple\",\"banana\",\"cherry\"]\n",
    "print(mylist)\n",
    "print(type(mylist))"
   ]
  },
  {
   "cell_type": "code",
   "execution_count": 51,
   "id": "0a166cfc",
   "metadata": {},
   "outputs": [
    {
     "name": "stdout",
     "output_type": "stream",
     "text": [
      "['apple', 'banana', 'apple', 'cherry', 'banana', 'apple']\n"
     ]
    }
   ],
   "source": [
    "mylist = [\"apple\",\"banana\",\"apple\",\"cherry\",\"banana\",\"apple\"]\n",
    "print(mylist)"
   ]
  },
  {
   "cell_type": "code",
   "execution_count": 52,
   "id": "8fc64874",
   "metadata": {},
   "outputs": [
    {
     "name": "stdout",
     "output_type": "stream",
     "text": [
      "['apple', 'banana', 'orange']\n",
      "[2, 5, 8]\n",
      "[7, 8, 9, 5, 4, 6, 2]\n",
      "[True, False, True]\n"
     ]
    }
   ],
   "source": [
    "list1 = [\"apple\",\"banana\",\"orange\"]\n",
    "list2 = [2,5,8]\n",
    "list3 = [7,8,9,5,4,6,2]\n",
    "list4 = [True,False,True]\n",
    "print(list1)\n",
    "print(list2)\n",
    "print(list3)\n",
    "print(list4)"
   ]
  },
  {
   "cell_type": "code",
   "execution_count": 53,
   "id": "366a0efa",
   "metadata": {},
   "outputs": [
    {
     "name": "stdout",
     "output_type": "stream",
     "text": [
      "[12, -8, 5, 2.3, 2.9, -89, 5, 8, 6, 'studentds', True]\n"
     ]
    }
   ],
   "source": [
    "a = [12,-8,5,2.3,2.9,-89,5,8,6,\"studentds\",True]\n",
    "print(a)"
   ]
  },
  {
   "cell_type": "code",
   "execution_count": 54,
   "id": "4147891c",
   "metadata": {},
   "outputs": [
    {
     "name": "stdout",
     "output_type": "stream",
     "text": [
      "11\n"
     ]
    }
   ],
   "source": [
    "a = [12,-8,5,2.3,2.9,-89,5,8,6,\"studentds\",True]\n",
    "print(len(a))"
   ]
  },
  {
   "cell_type": "code",
   "execution_count": 55,
   "id": "712f1bb8",
   "metadata": {},
   "outputs": [
    {
     "name": "stdout",
     "output_type": "stream",
     "text": [
      "58\n"
     ]
    }
   ],
   "source": [
    "thislist = [12,15,85,54,63,88,22,55,45,56,58,57]\n",
    "print(thislist[-2])"
   ]
  },
  {
   "cell_type": "code",
   "execution_count": 56,
   "id": "4dd3d470",
   "metadata": {},
   "outputs": [
    {
     "name": "stdout",
     "output_type": "stream",
     "text": [
      "[12, 15, 25, 54, 85, 56]\n"
     ]
    }
   ],
   "source": [
    "thislist = [12,15,25,54,85,56,14,15,16,17,18,85]\n",
    "print(thislist[0:6])"
   ]
  },
  {
   "cell_type": "code",
   "execution_count": 57,
   "id": "eda17fbf",
   "metadata": {},
   "outputs": [
    {
     "name": "stdout",
     "output_type": "stream",
     "text": [
      "[12, 25, 85, 14, 16, 18]\n"
     ]
    }
   ],
   "source": [
    "thislist = [12,15,25,54,85,56,14,15,16,17,18,85]\n",
    "print(thislist[0:12:2])"
   ]
  },
  {
   "cell_type": "code",
   "execution_count": 58,
   "id": "5827b729",
   "metadata": {},
   "outputs": [
    {
     "name": "stdout",
     "output_type": "stream",
     "text": [
      "['apple', 'strawberry', 'banana']\n"
     ]
    }
   ],
   "source": [
    "thislist = [\"apple\",\"orange\",\"banana\"]\n",
    "thislist[1] = \"strawberry\"\n",
    "print(thislist)"
   ]
  },
  {
   "cell_type": "code",
   "execution_count": 59,
   "id": "b92c8bf0",
   "metadata": {},
   "outputs": [
    {
     "name": "stdout",
     "output_type": "stream",
     "text": [
      "[12, 14, 'books', 'pen', 'paper', 8, 9, 68, 57, -3, -9]\n"
     ]
    }
   ],
   "source": [
    "a = [12,14,15,16,8,9,68,57,-3,-9]\n",
    "a[2:4] = [\"books\",\"pen\",\"paper\"]\n",
    "print(a)"
   ]
  },
  {
   "cell_type": "code",
   "execution_count": 60,
   "id": "9d74e983",
   "metadata": {},
   "outputs": [
    {
     "name": "stdout",
     "output_type": "stream",
     "text": [
      "[78, 89, 69, 58, 57, 'pen', 58, 59]\n"
     ]
    }
   ],
   "source": [
    "m = [78,89,69,58,57,\"paper\",\"pen\",58,59]\n",
    "m.remove(\"paper\")\n",
    "print(m)"
   ]
  },
  {
   "cell_type": "code",
   "execution_count": 61,
   "id": "678d5821",
   "metadata": {},
   "outputs": [
    {
     "name": "stdout",
     "output_type": "stream",
     "text": [
      "11\n",
      "the sum of a list is  365\n"
     ]
    }
   ],
   "source": [
    "l = [14,58,78,96,-8,9,-45,-25,5,87,96]\n",
    "print(len(l))\n",
    "a = 0\n",
    "for i in range(11):\n",
    "    a = a + l[i]\n",
    "    i = i+1\n",
    "print(\"the sum of a list is \" , a)"
   ]
  },
  {
   "cell_type": "markdown",
   "id": "e8b16b9c",
   "metadata": {},
   "source": [
    "# Mixed Data types"
   ]
  },
  {
   "cell_type": "code",
   "execution_count": 63,
   "id": "cfc952c9",
   "metadata": {},
   "outputs": [
    {
     "name": "stdout",
     "output_type": "stream",
     "text": [
      "(1, 'hello', 3.2, (4+5j))\n",
      "<class 'tuple'>\n"
     ]
    }
   ],
   "source": [
    "my_tuple = (1,\"hello\",3.2,4+5j)\n",
    "print(my_tuple)\n",
    "print(type(my_tuple))"
   ]
  },
  {
   "cell_type": "code",
   "execution_count": 64,
   "id": "cee6aa89",
   "metadata": {},
   "outputs": [
    {
     "name": "stdout",
     "output_type": "stream",
     "text": [
      "('data', [1, 2, 3], (4, 5, 6))\n",
      "<class 'tuple'>\n"
     ]
    }
   ],
   "source": [
    "a = (\"data\",[1,2,3],(4,5,6))\n",
    "print(a)\n",
    "print(type(a))"
   ]
  },
  {
   "cell_type": "code",
   "execution_count": 65,
   "id": "fbf1d5b3",
   "metadata": {},
   "outputs": [
    {
     "name": "stdout",
     "output_type": "stream",
     "text": [
      "hello\n",
      "<class 'str'>\n"
     ]
    }
   ],
   "source": [
    "var1 = (\"hello\")\n",
    "print(var1)\n",
    "print(type(var1))"
   ]
  },
  {
   "cell_type": "code",
   "execution_count": 66,
   "id": "3b3c9d75",
   "metadata": {},
   "outputs": [
    {
     "name": "stdout",
     "output_type": "stream",
     "text": [
      "hello\n",
      "<class 'str'>\n"
     ]
    }
   ],
   "source": [
    "var2 = (\"hello\")\n",
    "print(var2)\n",
    "print(type(var2))"
   ]
  },
  {
   "cell_type": "code",
   "execution_count": 67,
   "id": "7fe2bc93",
   "metadata": {},
   "outputs": [
    {
     "name": "stdout",
     "output_type": "stream",
     "text": [
      "46\n"
     ]
    }
   ],
   "source": [
    "a = (47,58,45,48,49,46,42)\n",
    "print(a[5])"
   ]
  },
  {
   "cell_type": "code",
   "execution_count": 68,
   "id": "150b524f",
   "metadata": {},
   "outputs": [
    {
     "name": "stdout",
     "output_type": "stream",
     "text": [
      "(1, 25, 3, 6, 14, 15, 18)\n"
     ]
    }
   ],
   "source": [
    "a = (1,25,3,6,14,15,18,15,14,18,78,9,64,5,5,8)\n",
    "print(a[0:7])"
   ]
  },
  {
   "cell_type": "code",
   "execution_count": 69,
   "id": "9c4f5a7b",
   "metadata": {},
   "outputs": [
    {
     "name": "stdout",
     "output_type": "stream",
     "text": [
      "(1, 3, 14, 18, 14, 78, 64, 5)\n"
     ]
    }
   ],
   "source": [
    "a = (1,25,3,6,14,15,18,15,14,18,78,9,64,5,5,8)\n",
    "print(a[::2])"
   ]
  },
  {
   "cell_type": "code",
   "execution_count": 70,
   "id": "8fa146b1",
   "metadata": {},
   "outputs": [
    {
     "name": "stdout",
     "output_type": "stream",
     "text": [
      "(8, 5, 15, 18, 15, 14, 6, 3, 25, 1)\n"
     ]
    }
   ],
   "source": [
    "a = (1,25,3,6,14,15,18,15,5,8)\n",
    "print(a[::-1])"
   ]
  },
  {
   "cell_type": "code",
   "execution_count": 71,
   "id": "23600b37",
   "metadata": {},
   "outputs": [
    {
     "name": "stdout",
     "output_type": "stream",
     "text": [
      "(1, 2, 3, 1, 5, 4, 859, 87, 56, 5, 8, 7)\n",
      "<class 'tuple'>\n"
     ]
    }
   ],
   "source": [
    "t = (1,2,3,1,5,4,859,87,56,5,8,7)\n",
    "print(t)\n",
    "print(type(t))"
   ]
  },
  {
   "cell_type": "code",
   "execution_count": 72,
   "id": "bd349601",
   "metadata": {},
   "outputs": [
    {
     "name": "stdout",
     "output_type": "stream",
     "text": [
      "(25, 26, 27, 28, 29, 30)\n"
     ]
    }
   ],
   "source": [
    "a = (25,26,27,28,29)\n",
    "y = list(a)\n",
    "y.append(30)\n",
    "a = tuple(y)\n",
    "print(a)"
   ]
  },
  {
   "cell_type": "code",
   "execution_count": 73,
   "id": "a29fc9fd",
   "metadata": {},
   "outputs": [
    {
     "name": "stdout",
     "output_type": "stream",
     "text": [
      "(25, 27, 28, 29)\n"
     ]
    }
   ],
   "source": [
    "a = (25,26,27,28,29)\n",
    "y = list(a)\n",
    "y.remove(26)\n",
    "a = tuple(y)\n",
    "print(a)"
   ]
  },
  {
   "cell_type": "code",
   "execution_count": 74,
   "id": "d7a0543f",
   "metadata": {},
   "outputs": [
    {
     "name": "stdout",
     "output_type": "stream",
     "text": [
      "('a', 'b', 'c', 1, 2, 3)\n"
     ]
    }
   ],
   "source": [
    "tuple1 = (\"a\",\"b\",\"c\")\n",
    "tuple2 = (1,2,3)\n",
    "tuple3 = tuple1+tuple2\n",
    "print(tuple3)\n"
   ]
  },
  {
   "cell_type": "code",
   "execution_count": 75,
   "id": "a49819b9",
   "metadata": {},
   "outputs": [
    {
     "name": "stdout",
     "output_type": "stream",
     "text": [
      "enter the values please10\n",
      "(10,)\n",
      "enter the values please20\n",
      "(10, 20)\n",
      "enter the values please30\n",
      "(10, 20, 30)\n",
      "enter the values please40\n",
      "(10, 20, 30, 40)\n",
      "enter the values please50\n",
      "(10, 20, 30, 40, 50)\n",
      "enter the values please23\n",
      "(10, 20, 30, 40, 50, 23)\n"
     ]
    }
   ],
   "source": [
    "T = ()\n",
    "i = 0\n",
    "while i<=5:\n",
    "    num = int(input(\"enter the values please\"))\n",
    "    T = T + (num,)\n",
    "    i = i+1\n",
    "    print(T)"
   ]
  },
  {
   "cell_type": "code",
   "execution_count": 76,
   "id": "e8e10339",
   "metadata": {},
   "outputs": [],
   "source": [
    "a = {\n",
    "    \"ID\" : \"123ab\",\n",
    "    \"color\":\"black\",\n",
    "    \"year\":1964\n",
    "}"
   ]
  },
  {
   "cell_type": "code",
   "execution_count": 77,
   "id": "2d4302eb",
   "metadata": {},
   "outputs": [
    {
     "name": "stdout",
     "output_type": "stream",
     "text": [
      "{'ID': '123ab', 'color': 'black', 'year': 1964}\n",
      "<class 'dict'>\n"
     ]
    }
   ],
   "source": [
    "print(a)\n",
    "print(type(a))"
   ]
  },
  {
   "cell_type": "code",
   "execution_count": 78,
   "id": "afb3e449",
   "metadata": {},
   "outputs": [
    {
     "name": "stdout",
     "output_type": "stream",
     "text": [
      "black\n"
     ]
    }
   ],
   "source": [
    "print(a[\"color\"])"
   ]
  },
  {
   "cell_type": "code",
   "execution_count": 79,
   "id": "19e7922f",
   "metadata": {},
   "outputs": [
    {
     "name": "stdout",
     "output_type": "stream",
     "text": [
      "{'ID': '123ab', 'color': 'Black', 'year': 1964, 'a': [1, 2, 3, 4, 5, 6], 'b': (2, 2, 4, 6, 8, 5, 7, 9), 'c': False}\n"
     ]
    }
   ],
   "source": [
    "dict = {\n",
    "    \"ID\":\"123ab\",\n",
    "    \"color\":\"Black\",\n",
    "    \"year\":1964,\n",
    "    'a':[1,2,3,4,5,6],\n",
    "    'b':(2,2,4,6,8,5,7,9),\n",
    "    'c':False\n",
    "}\n",
    "print(dict)"
   ]
  },
  {
   "cell_type": "code",
   "execution_count": 80,
   "id": "b2acf277",
   "metadata": {},
   "outputs": [
    {
     "name": "stdout",
     "output_type": "stream",
     "text": [
      "key is present in the dictionary\n",
      "key is not present in the dictionary\n"
     ]
    }
   ],
   "source": [
    "d = {1:10, 2:20, 3:30, 4:40, 5:50, 6:60}\n",
    "def is_key_present(x):\n",
    "    if x in d:\n",
    "        print('key is present in the dictionary')\n",
    "    else:\n",
    "        print('key is not present in the dictionary')\n",
    "is_key_present(5)\n",
    "is_key_present(9)"
   ]
  },
  {
   "cell_type": "markdown",
   "id": "492e9854",
   "metadata": {},
   "source": [
    "# creating a sets"
   ]
  },
  {
   "cell_type": "code",
   "execution_count": 81,
   "id": "e0f95de8",
   "metadata": {},
   "outputs": [
    {
     "name": "stdout",
     "output_type": "stream",
     "text": [
      "{'ball', 'cat', 'animals'}\n",
      "<class 'set'>\n"
     ]
    }
   ],
   "source": [
    "a = {\"animals\", \"ball\", \"cat\"}\n",
    "print(a)\n",
    "print(type(a))"
   ]
  },
  {
   "cell_type": "code",
   "execution_count": 82,
   "id": "bcd2a736",
   "metadata": {},
   "outputs": [
    {
     "name": "stdout",
     "output_type": "stream",
     "text": [
      "{1, 2, 3} {1, 2.5, 2, 2.4, 3, 2.6, 8} {'a', 'c', 'b'} {False, True}\n"
     ]
    }
   ],
   "source": [
    "x1 = {1,2,3}\n",
    "x2 = {1,2.4,2.5,2,8,3,2.6}\n",
    "x3 = {\"a\", \"b\", \"c\"}\n",
    "x4 = {True, False, True}\n",
    "print(x1,x2,x3,x4)"
   ]
  },
  {
   "cell_type": "code",
   "execution_count": 83,
   "id": "a2d76c32",
   "metadata": {},
   "outputs": [
    {
     "name": "stdout",
     "output_type": "stream",
     "text": [
      "False\n"
     ]
    }
   ],
   "source": [
    "a = {\"data\", \"python\", \"code\"}\n",
    "\n",
    "print(\"viveka\" in a)"
   ]
  },
  {
   "cell_type": "code",
   "execution_count": 84,
   "id": "3c36977f",
   "metadata": {},
   "outputs": [
    {
     "name": "stdout",
     "output_type": "stream",
     "text": [
      "{'python', 70, 40, 10, 'code', 50, 20, 60, 30, 'data'}\n"
     ]
    }
   ],
   "source": [
    "x = {\"data\", \"python\", \"code\"}\n",
    "y = {10,20,30,40,50,60,70}\n",
    "\n",
    "x.update(y)\n",
    "\n",
    "print(x)"
   ]
  },
  {
   "cell_type": "code",
   "execution_count": 85,
   "id": "3f8e8d6b",
   "metadata": {},
   "outputs": [
    {
     "name": "stdout",
     "output_type": "stream",
     "text": [
      "{70, 40, 10, 'code', 50, 20, 60, 30, 'data'}\n"
     ]
    }
   ],
   "source": [
    "m = {'data', 70, 40, 'python', 10, 'code', 50, 20, 60, 30}\n",
    "x = m.pop()\n",
    "print(m)"
   ]
  },
  {
   "cell_type": "code",
   "execution_count": 86,
   "id": "6d64471d",
   "metadata": {},
   "outputs": [
    {
     "name": "stdout",
     "output_type": "stream",
     "text": [
      "original set elements\n",
      "{4, 5, 20, 58, 8, 10}\n",
      "maximum value of the set is\n",
      "58\n",
      "minimum value of the set is\n",
      "4\n"
     ]
    }
   ],
   "source": [
    "setn = {5,10,5,4,20,58,8}\n",
    "print(\"original set elements\")\n",
    "print(setn)\n",
    "print(\"maximum value of the set is\")\n",
    "print(max(setn))\n",
    "print(\"minimum value of the set is\")\n",
    "print(min(setn))\n"
   ]
  },
  {
   "cell_type": "code",
   "execution_count": 87,
   "id": "06ccff51",
   "metadata": {},
   "outputs": [
    {
     "name": "stdout",
     "output_type": "stream",
     "text": [
      "{40, 50, 30}\n"
     ]
    }
   ],
   "source": [
    "set1 = {10,20,30,40,50}\n",
    "set2 = {30,40,50,60,70}\n",
    "\n",
    "print(set1.intersection(set2))"
   ]
  },
  {
   "cell_type": "code",
   "execution_count": null,
   "id": "28ce779f",
   "metadata": {},
   "outputs": [],
   "source": []
  }
 ],
 "metadata": {
  "kernelspec": {
   "display_name": "Python 3 (ipykernel)",
   "language": "python",
   "name": "python3"
  },
  "language_info": {
   "codemirror_mode": {
    "name": "ipython",
    "version": 3
   },
   "file_extension": ".py",
   "mimetype": "text/x-python",
   "name": "python",
   "nbconvert_exporter": "python",
   "pygments_lexer": "ipython3",
   "version": "3.11.5"
  }
 },
 "nbformat": 4,
 "nbformat_minor": 5
}
